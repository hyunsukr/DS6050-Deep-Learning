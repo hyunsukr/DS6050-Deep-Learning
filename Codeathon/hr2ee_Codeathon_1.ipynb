{
  "nbformat": 4,
  "nbformat_minor": 0,
  "metadata": {
    "colab": {
      "provenance": [],
      "collapsed_sections": []
    },
    "kernelspec": {
      "display_name": "Python 3",
      "language": "python",
      "name": "python3"
    },
    "language_info": {
      "codemirror_mode": {
        "name": "ipython",
        "version": 3
      },
      "file_extension": ".py",
      "mimetype": "text/x-python",
      "name": "python",
      "nbconvert_exporter": "python",
      "pygments_lexer": "ipython3",
      "version": "3.7.3"
    },
    "nav_menu": {
      "height": "264px",
      "width": "369px"
    },
    "toc": {
      "navigate_menu": true,
      "number_sections": true,
      "sideBar": true,
      "threshold": 6,
      "toc_cell": false,
      "toc_section_display": "block",
      "toc_window_display": false
    }
  },
  "cells": [
    {
      "cell_type": "code",
      "metadata": {
        "id": "2H4pQSdvhcNr"
      },
      "source": [
        "import numpy as np\n",
        "import tensorflow as tf"
      ],
      "execution_count": 1,
      "outputs": []
    },
    {
      "cell_type": "code",
      "source": [
        "np.random.seed(42)\n",
        "tf.random.set_seed(42)"
      ],
      "metadata": {
        "id": "jyVMF3NgmjNF"
      },
      "execution_count": 2,
      "outputs": []
    },
    {
      "cell_type": "markdown",
      "metadata": {
        "id": "NBjvLmtDydS-"
      },
      "source": [
        "First, load the CSV file as a line-by-line text dataset."
      ]
    },
    {
      "cell_type": "code",
      "metadata": {
        "colab": {
          "base_uri": "https://localhost:8080/"
        },
        "id": "R-zZoiopy3nl",
        "outputId": "57f6c65f-d936-491f-a083-430d8518c6ca"
      },
      "source": [
        "filepath = 'housing.csv'\n",
        "ds = tf.data.TextLineDataset(filepath)  # the most common way of reading a csv file in TF Data API\n",
        "for line in ds.take(5):   # show the first 5 rows of the CSV file\n",
        "    print(line.numpy())   # display each line as a string (as opposed to a tf.Tensor)"
      ],
      "execution_count": 3,
      "outputs": [
        {
          "output_type": "stream",
          "name": "stdout",
          "text": [
            "b' 0.00632  18.00   2.310  0  0.5380  6.5750  65.20  4.0900   1  296.0  15.30 396.90   4.98  24.00'\n",
            "b' 0.02731   0.00   7.070  0  0.4690  6.4210  78.90  4.9671   2  242.0  17.80 396.90   9.14  21.60'\n",
            "b' 0.02729   0.00   7.070  0  0.4690  7.1850  61.10  4.9671   2  242.0  17.80 392.83   4.03  34.70'\n",
            "b' 0.03237   0.00   2.180  0  0.4580  6.9980  45.80  6.0622   3  222.0  18.70 394.63   2.94  33.40'\n",
            "b' 0.06905   0.00   2.180  0  0.4580  7.1470  54.20  6.0622   3  222.0  18.70 396.90   5.33  36.20'\n"
          ]
        }
      ]
    },
    {
      "cell_type": "markdown",
      "metadata": {
        "id": "31N64jlA5Ual"
      },
      "source": [
        "Create a CSV parser."
      ]
    },
    {
      "cell_type": "code",
      "metadata": {
        "colab": {
          "base_uri": "https://localhost:8080/"
        },
        "id": "Ue_w2BBLzsCQ",
        "outputId": "ffd71eae-0157-47fc-c143-e213d7f47f06"
      },
      "source": [
        "n_columns = 14\n",
        "\n",
        "# @tf.function\n",
        "def parse_csv(line):\n",
        "    '''\n",
        "    function to parse each line of the CSV file\n",
        "    '''\n",
        "    record_defaults=[np.nan]*n_columns  # when there's a missing cell, mark it as NaN (Not a Number)\n",
        "\n",
        "    # The BH dataset does not follow the usual comma-separated format.\n",
        "    # Instead it has multiple whitespaces to separate columns. \n",
        "    line = tf.strings.strip(line)   # strip white spaces at the front and the back of the string\n",
        "    line = tf.strings.regex_replace(line, ' +', ',')   # replace multiple spaces to a single comma\n",
        "\n",
        "    fields = tf.io.decode_csv(line, record_defaults=record_defaults) # parse the columns (fields)\n",
        "    x = tf.stack(fields[:-1])   # the first 13 columns are the independent variables\n",
        "    y = tf.stack(fields[-1:])   # the last column is the dependent variable\n",
        "    return x, y\n",
        "\n",
        "# test if the parser works\n",
        "parse_csv(b' 0.00632  18.00   2.310  0  0.5380  6.5750  65.20  4.0900   1  296.0  15.30 396.90   4.98  24.00')"
      ],
      "execution_count": 4,
      "outputs": [
        {
          "output_type": "execute_result",
          "data": {
            "text/plain": [
              "(<tf.Tensor: shape=(13,), dtype=float32, numpy=\n",
              " array([6.320e-03, 1.800e+01, 2.310e+00, 0.000e+00, 5.380e-01, 6.575e+00,\n",
              "        6.520e+01, 4.090e+00, 1.000e+00, 2.960e+02, 1.530e+01, 3.969e+02,\n",
              "        4.980e+00], dtype=float32)>,\n",
              " <tf.Tensor: shape=(1,), dtype=float32, numpy=array([24.], dtype=float32)>)"
            ]
          },
          "metadata": {},
          "execution_count": 4
        }
      ]
    },
    {
      "cell_type": "markdown",
      "metadata": {
        "id": "MovnNLm-5hdG"
      },
      "source": [
        "Parse each row of the CSV file into a feature vector (x) and a dependent variable (y)."
      ]
    },
    {
      "cell_type": "code",
      "metadata": {
        "colab": {
          "base_uri": "https://localhost:8080/"
        },
        "id": "Av1vrN0t19lU",
        "outputId": "fda6026c-917d-46c7-89d4-adea1890f6de"
      },
      "source": [
        "ds_parsed = ds.map(parse_csv)\n",
        "for x, y in ds_parsed.take(3):   # show the first 3 entries\n",
        "    print('x =', x)\n",
        "    print('y =', y)\n",
        "    print('')"
      ],
      "execution_count": 5,
      "outputs": [
        {
          "output_type": "stream",
          "name": "stdout",
          "text": [
            "x = tf.Tensor(\n",
            "[6.320e-03 1.800e+01 2.310e+00 0.000e+00 5.380e-01 6.575e+00 6.520e+01\n",
            " 4.090e+00 1.000e+00 2.960e+02 1.530e+01 3.969e+02 4.980e+00], shape=(13,), dtype=float32)\n",
            "y = tf.Tensor([24.], shape=(1,), dtype=float32)\n",
            "\n",
            "x = tf.Tensor(\n",
            "[2.7310e-02 0.0000e+00 7.0700e+00 0.0000e+00 4.6900e-01 6.4210e+00\n",
            " 7.8900e+01 4.9671e+00 2.0000e+00 2.4200e+02 1.7800e+01 3.9690e+02\n",
            " 9.1400e+00], shape=(13,), dtype=float32)\n",
            "y = tf.Tensor([21.6], shape=(1,), dtype=float32)\n",
            "\n",
            "x = tf.Tensor(\n",
            "[2.7290e-02 0.0000e+00 7.0700e+00 0.0000e+00 4.6900e-01 7.1850e+00\n",
            " 6.1100e+01 4.9671e+00 2.0000e+00 2.4200e+02 1.7800e+01 3.9283e+02\n",
            " 4.0300e+00], shape=(13,), dtype=float32)\n",
            "y = tf.Tensor([34.7], shape=(1,), dtype=float32)\n",
            "\n"
          ]
        }
      ]
    },
    {
      "cell_type": "markdown",
      "metadata": {
        "id": "N82SREi27YAT"
      },
      "source": [
        "Compute the mean and the standarad deviation"
      ]
    },
    {
      "cell_type": "code",
      "metadata": {
        "colab": {
          "base_uri": "https://localhost:8080/"
        },
        "id": "4QyyYnwZ5wIn",
        "outputId": "448fcd3a-395d-4b5e-8168-19dda97ab980"
      },
      "source": [
        "feature_mean = tf.zeros((13,))\n",
        "cnt = 0\n",
        "for x, _ in ds_parsed:\n",
        "    feature_mean += x\n",
        "    cnt += 1\n",
        "feature_mean /= cnt\n",
        "\n",
        "print(feature_mean)\n",
        "\n",
        "feature_std = tf.zeros((13,))\n",
        "for x, y in ds_parsed:\n",
        "    feature_std += (x - feature_mean)**2\n",
        "feature_std /= cnt\n",
        "feature_std = tf.math.sqrt(feature_std)\n",
        "\n",
        "print(feature_std)"
      ],
      "execution_count": 6,
      "outputs": [
        {
          "output_type": "stream",
          "name": "stdout",
          "text": [
            "tf.Tensor(\n",
            "[3.6135232e+00 1.1363636e+01 1.1136797e+01 6.9169961e-02 5.5469555e-01\n",
            " 6.2846355e+00 6.8574921e+01 3.7950428e+00 9.5494070e+00 4.0823715e+02\n",
            " 1.8455584e+01 3.5667456e+02 1.2653064e+01], shape=(13,), dtype=float32)\n",
            "tf.Tensor(\n",
            "[8.5930414e+00 2.3299332e+01 6.8535724e+00 2.5374201e-01 1.1576311e-01\n",
            " 7.0192248e-01 2.8121040e+01 2.1036289e+00 8.6986599e+00 1.6837056e+02\n",
            " 2.1628053e+00 9.1204582e+01 7.1340027e+00], shape=(13,), dtype=float32)\n"
          ]
        }
      ]
    },
    {
      "cell_type": "markdown",
      "metadata": {
        "id": "UnmN8yPh8ARJ"
      },
      "source": [
        "Standaradize the data"
      ]
    },
    {
      "cell_type": "code",
      "metadata": {
        "colab": {
          "base_uri": "https://localhost:8080/"
        },
        "id": "NMKVX1hs79YP",
        "outputId": "85413ad2-9a3c-4608-bc4b-c905a3303fd7"
      },
      "source": [
        "@tf.function\n",
        "def standardize(x, y):\n",
        "    return (x - feature_mean) / feature_std, y\n",
        "\n",
        "ds_std = ds_parsed.map(standardize)\n",
        "for x, y in ds_std.take(3):\n",
        "    print('x =', x)\n",
        "    print('y =', y)\n",
        "    print('')"
      ],
      "execution_count": 7,
      "outputs": [
        {
          "output_type": "stream",
          "name": "stdout",
          "text": [
            "x = tf.Tensor(\n",
            "[-0.4197819   0.28483066 -1.2879119  -0.27259958 -0.14422175  0.41367\n",
            " -0.12001418  0.14021361 -0.98284185 -0.6666079  -1.4590234   0.44104618\n",
            " -1.0755622 ], shape=(13,), dtype=float32)\n",
            "y = tf.Tensor([24.], shape=(1,), dtype=float32)\n",
            "\n",
            "x = tf.Tensor(\n",
            "[-0.41733924 -0.48772368 -0.5933835  -0.27259958 -0.7402663   0.19427282\n",
            "  0.36716568  0.5571598  -0.8678816  -0.98732907 -0.3031176   0.44104618\n",
            " -0.49243933], shape=(13,), dtype=float32)\n",
            "y = tf.Tensor([21.6], shape=(1,), dtype=float32)\n",
            "\n",
            "x = tf.Tensor(\n",
            "[-0.41734153 -0.48772368 -0.5933835  -0.27259958 -0.7402663   1.282712\n",
            " -0.26581243  0.5571598  -0.8678816  -0.98732907 -0.3031176   0.39642116\n",
            " -1.2087274 ], shape=(13,), dtype=float32)\n",
            "y = tf.Tensor([34.7], shape=(1,), dtype=float32)\n",
            "\n"
          ]
        }
      ]
    },
    {
      "cell_type": "markdown",
      "metadata": {
        "id": "mVhUAbdu9eEz"
      },
      "source": [
        "Split the dataset into train, val, test"
      ]
    },
    {
      "cell_type": "code",
      "metadata": {
        "id": "nqd8_50s9gzx"
      },
      "source": [
        "ds_shuffled = ds_std.shuffle(1024)\n",
        "# ds_shuffled = ds_std.shuffle(1024, seed = 42, reshuffle_each_iteration = False)\n",
        "ds_test = ds_shuffled.take(100)  # the first 100 samples will be set aside for test and validation\n",
        "ds_train = ds_shuffled.skip(100) # the remainder will be used for training\n",
        "\n",
        "ds_val = ds_test.take(50)    # the first 50 among the set-aside samples will be used for validation\n",
        "ds_test = ds_test.skip(50)   # the remainder of the set-aside samples willb e used for testing"
      ],
      "execution_count": 8,
      "outputs": []
    },
    {
      "cell_type": "markdown",
      "metadata": {
        "id": "dUYxM0978nvg"
      },
      "source": [
        "(Bonus) Augment the dataset by adding noise. Note that with this simple data augmentation trick, we can achieve a smaller MSE than the case without it."
      ]
    },
    {
      "cell_type": "code",
      "metadata": {
        "colab": {
          "base_uri": "https://localhost:8080/"
        },
        "id": "RsX7TJ5A8nWa",
        "outputId": "147de07d-c1a6-4576-b51c-5f0adcca9986"
      },
      "source": [
        "@tf.function\n",
        "def augment(x, y):\n",
        "  return x + tf.random.normal((13,), 0, 0.0005), y\n",
        "\n",
        "ds_train = ds_train.repeat(10).map(augment)  # augment the dataset by 10x\n",
        "for x, y in ds_train.take(3):\n",
        "    print('x =', x)\n",
        "    print('y =', y)\n",
        "    print('')"
      ],
      "execution_count": 9,
      "outputs": [
        {
          "output_type": "stream",
          "name": "stdout",
          "text": [
            "x = tf.Tensor(\n",
            "[-0.38596657 -0.48746437 -0.72040313 -0.2731876  -0.43781343  1.9960691\n",
            " -1.8346875  -0.20042296 -0.17801711 -0.6010033  -0.4878338   0.22889358\n",
            " -1.2237452 ], shape=(13,), dtype=float32)\n",
            "y = tf.Tensor([46.7], shape=(1,), dtype=float32)\n",
            "\n",
            "x = tf.Tensor(\n",
            "[-0.4159978  -0.48748416 -0.8678576  -0.27205208 -0.3428577   0.03522629\n",
            " -1.0690029   1.2668046  -0.5226832  -1.0939199   0.8056515   0.35829353\n",
            " -0.82781696], shape=(13,), dtype=float32)\n",
            "y = tf.Tensor([20.7], shape=(1,), dtype=float32)\n",
            "\n",
            "x = tf.Tensor(\n",
            "[-0.36704725 -0.48732916 -0.7193502  -0.27239266 -0.4372101   1.6063106\n",
            "  0.29641312 -0.05880021 -0.17754577 -0.6007919  -0.4872447   0.21344613\n",
            " -1.0369585 ], shape=(13,), dtype=float32)\n",
            "y = tf.Tensor([31.7], shape=(1,), dtype=float32)\n",
            "\n"
          ]
        }
      ]
    },
    {
      "cell_type": "markdown",
      "metadata": {
        "id": "eXhIdznb9YYD"
      },
      "source": [
        "Batch and prefetch"
      ]
    },
    {
      "cell_type": "code",
      "metadata": {
        "id": "n3QDFhWa9ahf"
      },
      "source": [
        "ds_train = ds_train.batch(32).prefetch(1)\n",
        "ds_val = ds_val.batch(50)   # a single batch containing the entire set\n",
        "ds_test = ds_test.batch(50) # a single batch containing the entire set"
      ],
      "execution_count": 10,
      "outputs": []
    },
    {
      "cell_type": "markdown",
      "metadata": {
        "id": "8YVb575k-jgz"
      },
      "source": [
        "Build, compile, and train the model"
      ]
    },
    {
      "cell_type": "code",
      "metadata": {
        "id": "qS6cDWBn-jSI"
      },
      "source": [
        "tf.keras.backend.clear_session()\n",
        "model = tf.keras.models.Sequential([\n",
        "    tf.keras.layers.Dense(128, activation=\"relu\", input_shape=(13,)),\n",
        "    tf.keras.layers.Dense(64, activation=\"relu\"),\n",
        "    tf.keras.layers.Dense(32, activation=\"relu\"),\n",
        "    tf.keras.layers.Dense(18, activation=\"relu\"),\n",
        "    tf.keras.layers.Dense(8, activation=\"relu\"),\n",
        "    tf.keras.layers.Dense(1),\n",
        "])"
      ],
      "execution_count": 11,
      "outputs": []
    },
    {
      "cell_type": "code",
      "source": [
        "model.compile(loss='mse', optimizer=tf.keras.optimizers.Adam(learning_rate=0.001),\n",
        "              metrics = tf.keras.metrics.RootMeanSquaredError(name='rmse', dtype=None))\n",
        "\n",
        "history = model.fit(ds_train, epochs=300, validation_data=ds_val)"
      ],
      "metadata": {
        "colab": {
          "base_uri": "https://localhost:8080/"
        },
        "id": "Kz-hit85vWwE",
        "outputId": "5f3d9071-9117-43ee-e795-dbcdf99b9530"
      },
      "execution_count": 12,
      "outputs": [
        {
          "output_type": "stream",
          "name": "stdout",
          "text": [
            "Epoch 1/300\n",
            "127/127 [==============================] - 5s 26ms/step - loss: 279.8901 - rmse: 16.7299 - val_loss: 32.2327 - val_rmse: 5.6774\n",
            "Epoch 2/300\n",
            "127/127 [==============================] - 2s 12ms/step - loss: 19.0065 - rmse: 4.3596 - val_loss: 9.4823 - val_rmse: 3.0793\n",
            "Epoch 3/300\n",
            "127/127 [==============================] - 2s 12ms/step - loss: 13.0768 - rmse: 3.6162 - val_loss: 19.7366 - val_rmse: 4.4426\n",
            "Epoch 4/300\n",
            "127/127 [==============================] - 2s 12ms/step - loss: 11.1982 - rmse: 3.3464 - val_loss: 12.7337 - val_rmse: 3.5684\n",
            "Epoch 5/300\n",
            "127/127 [==============================] - 2s 11ms/step - loss: 10.0171 - rmse: 3.1650 - val_loss: 19.6944 - val_rmse: 4.4378\n",
            "Epoch 6/300\n",
            "127/127 [==============================] - 1s 8ms/step - loss: 9.1867 - rmse: 3.0310 - val_loss: 8.2994 - val_rmse: 2.8809\n",
            "Epoch 7/300\n",
            "127/127 [==============================] - 1s 7ms/step - loss: 8.4294 - rmse: 2.9034 - val_loss: 6.1840 - val_rmse: 2.4868\n",
            "Epoch 8/300\n",
            "127/127 [==============================] - 1s 6ms/step - loss: 7.8838 - rmse: 2.8078 - val_loss: 7.6982 - val_rmse: 2.7746\n",
            "Epoch 9/300\n",
            "127/127 [==============================] - 1s 6ms/step - loss: 7.4137 - rmse: 2.7228 - val_loss: 9.3549 - val_rmse: 3.0586\n",
            "Epoch 10/300\n",
            "127/127 [==============================] - 1s 6ms/step - loss: 6.7575 - rmse: 2.5995 - val_loss: 6.2521 - val_rmse: 2.5004\n",
            "Epoch 11/300\n",
            "127/127 [==============================] - 1s 6ms/step - loss: 6.5428 - rmse: 2.5579 - val_loss: 5.9063 - val_rmse: 2.4303\n",
            "Epoch 12/300\n",
            "127/127 [==============================] - 1s 6ms/step - loss: 6.0225 - rmse: 2.4541 - val_loss: 7.5496 - val_rmse: 2.7476\n",
            "Epoch 13/300\n",
            "127/127 [==============================] - 1s 6ms/step - loss: 5.5749 - rmse: 2.3611 - val_loss: 4.5741 - val_rmse: 2.1387\n",
            "Epoch 14/300\n",
            "127/127 [==============================] - 1s 7ms/step - loss: 4.8936 - rmse: 2.2122 - val_loss: 4.2564 - val_rmse: 2.0631\n",
            "Epoch 15/300\n",
            "127/127 [==============================] - 1s 7ms/step - loss: 4.4518 - rmse: 2.1099 - val_loss: 4.2192 - val_rmse: 2.0541\n",
            "Epoch 16/300\n",
            "127/127 [==============================] - 1s 6ms/step - loss: 3.9977 - rmse: 1.9994 - val_loss: 3.8932 - val_rmse: 1.9731\n",
            "Epoch 17/300\n",
            "127/127 [==============================] - 1s 6ms/step - loss: 3.5182 - rmse: 1.8757 - val_loss: 4.1696 - val_rmse: 2.0420\n",
            "Epoch 18/300\n",
            "127/127 [==============================] - 1s 6ms/step - loss: 3.3931 - rmse: 1.8420 - val_loss: 2.4656 - val_rmse: 1.5702\n",
            "Epoch 19/300\n",
            "127/127 [==============================] - 1s 7ms/step - loss: 3.1161 - rmse: 1.7652 - val_loss: 2.4536 - val_rmse: 1.5664\n",
            "Epoch 20/300\n",
            "127/127 [==============================] - 1s 6ms/step - loss: 2.8349 - rmse: 1.6837 - val_loss: 2.6452 - val_rmse: 1.6264\n",
            "Epoch 21/300\n",
            "127/127 [==============================] - 1s 6ms/step - loss: 2.5857 - rmse: 1.6080 - val_loss: 3.0744 - val_rmse: 1.7534\n",
            "Epoch 22/300\n",
            "127/127 [==============================] - 1s 6ms/step - loss: 2.3762 - rmse: 1.5415 - val_loss: 2.5518 - val_rmse: 1.5974\n",
            "Epoch 23/300\n",
            "127/127 [==============================] - 1s 6ms/step - loss: 2.2832 - rmse: 1.5110 - val_loss: 2.4171 - val_rmse: 1.5547\n",
            "Epoch 24/300\n",
            "127/127 [==============================] - 1s 7ms/step - loss: 2.0440 - rmse: 1.4297 - val_loss: 2.1194 - val_rmse: 1.4558\n",
            "Epoch 25/300\n",
            "127/127 [==============================] - 1s 6ms/step - loss: 1.9660 - rmse: 1.4022 - val_loss: 1.8165 - val_rmse: 1.3478\n",
            "Epoch 26/300\n",
            "127/127 [==============================] - 1s 7ms/step - loss: 2.0250 - rmse: 1.4230 - val_loss: 2.2430 - val_rmse: 1.4977\n",
            "Epoch 27/300\n",
            "127/127 [==============================] - 1s 7ms/step - loss: 1.7654 - rmse: 1.3287 - val_loss: 1.3943 - val_rmse: 1.1808\n",
            "Epoch 28/300\n",
            "127/127 [==============================] - 1s 6ms/step - loss: 1.7059 - rmse: 1.3061 - val_loss: 1.3754 - val_rmse: 1.1728\n",
            "Epoch 29/300\n",
            "127/127 [==============================] - 1s 6ms/step - loss: 1.6370 - rmse: 1.2794 - val_loss: 0.9910 - val_rmse: 0.9955\n",
            "Epoch 30/300\n",
            "127/127 [==============================] - 1s 6ms/step - loss: 1.4943 - rmse: 1.2224 - val_loss: 1.2781 - val_rmse: 1.1305\n",
            "Epoch 31/300\n",
            "127/127 [==============================] - 1s 7ms/step - loss: 1.3736 - rmse: 1.1720 - val_loss: 1.0605 - val_rmse: 1.0298\n",
            "Epoch 32/300\n",
            "127/127 [==============================] - 1s 6ms/step - loss: 1.3214 - rmse: 1.1495 - val_loss: 1.3594 - val_rmse: 1.1659\n",
            "Epoch 33/300\n",
            "127/127 [==============================] - 1s 7ms/step - loss: 1.3347 - rmse: 1.1553 - val_loss: 1.6236 - val_rmse: 1.2742\n",
            "Epoch 34/300\n",
            "127/127 [==============================] - 1s 6ms/step - loss: 1.2552 - rmse: 1.1204 - val_loss: 1.2214 - val_rmse: 1.1052\n",
            "Epoch 35/300\n",
            "127/127 [==============================] - 1s 6ms/step - loss: 1.1369 - rmse: 1.0663 - val_loss: 0.6528 - val_rmse: 0.8080\n",
            "Epoch 36/300\n",
            "127/127 [==============================] - 1s 6ms/step - loss: 1.3218 - rmse: 1.1497 - val_loss: 1.6354 - val_rmse: 1.2788\n",
            "Epoch 37/300\n",
            "127/127 [==============================] - 1s 6ms/step - loss: 1.1740 - rmse: 1.0835 - val_loss: 1.0308 - val_rmse: 1.0153\n",
            "Epoch 38/300\n",
            "127/127 [==============================] - 1s 6ms/step - loss: 1.0878 - rmse: 1.0430 - val_loss: 1.4752 - val_rmse: 1.2146\n",
            "Epoch 39/300\n",
            "127/127 [==============================] - 1s 6ms/step - loss: 1.0533 - rmse: 1.0263 - val_loss: 0.4882 - val_rmse: 0.6987\n",
            "Epoch 40/300\n",
            "127/127 [==============================] - 1s 6ms/step - loss: 1.0118 - rmse: 1.0059 - val_loss: 0.9793 - val_rmse: 0.9896\n",
            "Epoch 41/300\n",
            "127/127 [==============================] - 1s 6ms/step - loss: 1.0066 - rmse: 1.0033 - val_loss: 1.0096 - val_rmse: 1.0048\n",
            "Epoch 42/300\n",
            "127/127 [==============================] - 1s 7ms/step - loss: 1.0281 - rmse: 1.0140 - val_loss: 0.9306 - val_rmse: 0.9647\n",
            "Epoch 43/300\n",
            "127/127 [==============================] - 1s 6ms/step - loss: 0.9090 - rmse: 0.9534 - val_loss: 0.6397 - val_rmse: 0.7998\n",
            "Epoch 44/300\n",
            "127/127 [==============================] - 1s 6ms/step - loss: 0.9091 - rmse: 0.9535 - val_loss: 1.0864 - val_rmse: 1.0423\n",
            "Epoch 45/300\n",
            "127/127 [==============================] - 1s 6ms/step - loss: 0.8579 - rmse: 0.9262 - val_loss: 0.8997 - val_rmse: 0.9485\n",
            "Epoch 46/300\n",
            "127/127 [==============================] - 1s 6ms/step - loss: 0.7988 - rmse: 0.8938 - val_loss: 0.6992 - val_rmse: 0.8362\n",
            "Epoch 47/300\n",
            "127/127 [==============================] - 1s 7ms/step - loss: 0.7697 - rmse: 0.8773 - val_loss: 0.9614 - val_rmse: 0.9805\n",
            "Epoch 48/300\n",
            "127/127 [==============================] - 1s 6ms/step - loss: 0.7728 - rmse: 0.8791 - val_loss: 0.2760 - val_rmse: 0.5254\n",
            "Epoch 49/300\n",
            "127/127 [==============================] - 1s 7ms/step - loss: 0.7104 - rmse: 0.8429 - val_loss: 0.5741 - val_rmse: 0.7577\n",
            "Epoch 50/300\n",
            "127/127 [==============================] - 1s 6ms/step - loss: 0.8058 - rmse: 0.8976 - val_loss: 0.5522 - val_rmse: 0.7431\n",
            "Epoch 51/300\n",
            "127/127 [==============================] - 1s 6ms/step - loss: 0.7308 - rmse: 0.8548 - val_loss: 0.6942 - val_rmse: 0.8332\n",
            "Epoch 52/300\n",
            "127/127 [==============================] - 1s 6ms/step - loss: 0.7652 - rmse: 0.8748 - val_loss: 0.4468 - val_rmse: 0.6684\n",
            "Epoch 53/300\n",
            "127/127 [==============================] - 1s 6ms/step - loss: 0.6917 - rmse: 0.8317 - val_loss: 0.3044 - val_rmse: 0.5517\n",
            "Epoch 54/300\n",
            "127/127 [==============================] - 1s 7ms/step - loss: 0.6005 - rmse: 0.7749 - val_loss: 0.3439 - val_rmse: 0.5864\n",
            "Epoch 55/300\n",
            "127/127 [==============================] - 1s 7ms/step - loss: 0.6757 - rmse: 0.8220 - val_loss: 1.0902 - val_rmse: 1.0441\n",
            "Epoch 56/300\n",
            "127/127 [==============================] - 1s 6ms/step - loss: 0.6886 - rmse: 0.8298 - val_loss: 0.7670 - val_rmse: 0.8758\n",
            "Epoch 57/300\n",
            "127/127 [==============================] - 1s 6ms/step - loss: 0.6332 - rmse: 0.7957 - val_loss: 0.7367 - val_rmse: 0.8583\n",
            "Epoch 58/300\n",
            "127/127 [==============================] - 1s 7ms/step - loss: 0.5797 - rmse: 0.7614 - val_loss: 0.3578 - val_rmse: 0.5982\n",
            "Epoch 59/300\n",
            "127/127 [==============================] - 1s 6ms/step - loss: 0.5346 - rmse: 0.7312 - val_loss: 0.8625 - val_rmse: 0.9287\n",
            "Epoch 60/300\n",
            "127/127 [==============================] - 1s 6ms/step - loss: 0.6844 - rmse: 0.8273 - val_loss: 0.8487 - val_rmse: 0.9213\n",
            "Epoch 61/300\n",
            "127/127 [==============================] - 1s 6ms/step - loss: 0.5132 - rmse: 0.7164 - val_loss: 0.5185 - val_rmse: 0.7200\n",
            "Epoch 62/300\n",
            "127/127 [==============================] - 1s 6ms/step - loss: 0.4627 - rmse: 0.6802 - val_loss: 1.0815 - val_rmse: 1.0399\n",
            "Epoch 63/300\n",
            "127/127 [==============================] - 1s 7ms/step - loss: 0.4513 - rmse: 0.6718 - val_loss: 0.5934 - val_rmse: 0.7703\n",
            "Epoch 64/300\n",
            "127/127 [==============================] - 1s 6ms/step - loss: 0.5188 - rmse: 0.7203 - val_loss: 0.5704 - val_rmse: 0.7552\n",
            "Epoch 65/300\n",
            "127/127 [==============================] - 1s 6ms/step - loss: 0.5068 - rmse: 0.7119 - val_loss: 0.6489 - val_rmse: 0.8056\n",
            "Epoch 66/300\n",
            "127/127 [==============================] - 1s 6ms/step - loss: 0.5342 - rmse: 0.7309 - val_loss: 0.1675 - val_rmse: 0.4093\n",
            "Epoch 67/300\n",
            "127/127 [==============================] - 1s 6ms/step - loss: 0.4541 - rmse: 0.6739 - val_loss: 0.4753 - val_rmse: 0.6894\n",
            "Epoch 68/300\n",
            "127/127 [==============================] - 1s 6ms/step - loss: 0.4984 - rmse: 0.7060 - val_loss: 0.2592 - val_rmse: 0.5091\n",
            "Epoch 69/300\n",
            "127/127 [==============================] - 1s 6ms/step - loss: 0.4224 - rmse: 0.6499 - val_loss: 0.5919 - val_rmse: 0.7694\n",
            "Epoch 70/300\n",
            "127/127 [==============================] - 1s 7ms/step - loss: 0.5070 - rmse: 0.7121 - val_loss: 0.9106 - val_rmse: 0.9543\n",
            "Epoch 71/300\n",
            "127/127 [==============================] - 1s 6ms/step - loss: 0.5493 - rmse: 0.7412 - val_loss: 0.6469 - val_rmse: 0.8043\n",
            "Epoch 72/300\n",
            "127/127 [==============================] - 1s 7ms/step - loss: 0.4672 - rmse: 0.6835 - val_loss: 0.1932 - val_rmse: 0.4396\n",
            "Epoch 73/300\n",
            "127/127 [==============================] - 1s 6ms/step - loss: 0.3711 - rmse: 0.6092 - val_loss: 0.3880 - val_rmse: 0.6229\n",
            "Epoch 74/300\n",
            "127/127 [==============================] - 1s 6ms/step - loss: 0.4380 - rmse: 0.6618 - val_loss: 0.3609 - val_rmse: 0.6008\n",
            "Epoch 75/300\n",
            "127/127 [==============================] - 1s 6ms/step - loss: 0.4074 - rmse: 0.6383 - val_loss: 0.4083 - val_rmse: 0.6390\n",
            "Epoch 76/300\n",
            "127/127 [==============================] - 1s 7ms/step - loss: 0.4419 - rmse: 0.6648 - val_loss: 0.3533 - val_rmse: 0.5944\n",
            "Epoch 77/300\n",
            "127/127 [==============================] - 1s 6ms/step - loss: 0.4203 - rmse: 0.6483 - val_loss: 0.4003 - val_rmse: 0.6327\n",
            "Epoch 78/300\n",
            "127/127 [==============================] - 1s 7ms/step - loss: 0.4156 - rmse: 0.6447 - val_loss: 0.2118 - val_rmse: 0.4602\n",
            "Epoch 79/300\n",
            "127/127 [==============================] - 1s 6ms/step - loss: 0.4366 - rmse: 0.6608 - val_loss: 0.9002 - val_rmse: 0.9488\n",
            "Epoch 80/300\n",
            "127/127 [==============================] - 1s 7ms/step - loss: 0.5928 - rmse: 0.7699 - val_loss: 0.2791 - val_rmse: 0.5283\n",
            "Epoch 81/300\n",
            "127/127 [==============================] - 1s 6ms/step - loss: 0.4092 - rmse: 0.6397 - val_loss: 0.1423 - val_rmse: 0.3772\n",
            "Epoch 82/300\n",
            "127/127 [==============================] - 1s 6ms/step - loss: 0.3341 - rmse: 0.5781 - val_loss: 0.1905 - val_rmse: 0.4364\n",
            "Epoch 83/300\n",
            "127/127 [==============================] - 1s 6ms/step - loss: 0.3056 - rmse: 0.5528 - val_loss: 0.5053 - val_rmse: 0.7109\n",
            "Epoch 84/300\n",
            "127/127 [==============================] - 1s 10ms/step - loss: 0.3261 - rmse: 0.5711 - val_loss: 0.1767 - val_rmse: 0.4203\n",
            "Epoch 85/300\n",
            "127/127 [==============================] - 1s 7ms/step - loss: 0.4327 - rmse: 0.6578 - val_loss: 0.2724 - val_rmse: 0.5219\n",
            "Epoch 86/300\n",
            "127/127 [==============================] - 1s 6ms/step - loss: 0.3081 - rmse: 0.5550 - val_loss: 0.1518 - val_rmse: 0.3896\n",
            "Epoch 87/300\n",
            "127/127 [==============================] - 1s 6ms/step - loss: 0.3186 - rmse: 0.5645 - val_loss: 0.2062 - val_rmse: 0.4541\n",
            "Epoch 88/300\n",
            "127/127 [==============================] - 1s 7ms/step - loss: 0.3666 - rmse: 0.6055 - val_loss: 0.5846 - val_rmse: 0.7646\n",
            "Epoch 89/300\n",
            "127/127 [==============================] - 1s 7ms/step - loss: 0.3106 - rmse: 0.5574 - val_loss: 0.2585 - val_rmse: 0.5084\n",
            "Epoch 90/300\n",
            "127/127 [==============================] - 1s 6ms/step - loss: 0.2641 - rmse: 0.5139 - val_loss: 0.2539 - val_rmse: 0.5039\n",
            "Epoch 91/300\n",
            "127/127 [==============================] - 1s 6ms/step - loss: 0.4520 - rmse: 0.6723 - val_loss: 0.6669 - val_rmse: 0.8166\n",
            "Epoch 92/300\n",
            "127/127 [==============================] - 1s 7ms/step - loss: 0.4353 - rmse: 0.6598 - val_loss: 0.2792 - val_rmse: 0.5284\n",
            "Epoch 93/300\n",
            "127/127 [==============================] - 1s 7ms/step - loss: 0.2917 - rmse: 0.5401 - val_loss: 0.4717 - val_rmse: 0.6868\n",
            "Epoch 94/300\n",
            "127/127 [==============================] - 1s 7ms/step - loss: 0.4336 - rmse: 0.6585 - val_loss: 0.5705 - val_rmse: 0.7553\n",
            "Epoch 95/300\n",
            "127/127 [==============================] - 1s 6ms/step - loss: 0.3004 - rmse: 0.5480 - val_loss: 0.1666 - val_rmse: 0.4082\n",
            "Epoch 96/300\n",
            "127/127 [==============================] - 1s 7ms/step - loss: 0.3907 - rmse: 0.6251 - val_loss: 0.3156 - val_rmse: 0.5618\n",
            "Epoch 97/300\n",
            "127/127 [==============================] - 1s 6ms/step - loss: 0.2408 - rmse: 0.4907 - val_loss: 0.3424 - val_rmse: 0.5851\n",
            "Epoch 98/300\n",
            "127/127 [==============================] - 1s 6ms/step - loss: 0.2781 - rmse: 0.5274 - val_loss: 0.4165 - val_rmse: 0.6454\n",
            "Epoch 99/300\n",
            "127/127 [==============================] - 1s 6ms/step - loss: 0.2997 - rmse: 0.5475 - val_loss: 0.0561 - val_rmse: 0.2368\n",
            "Epoch 100/300\n",
            "127/127 [==============================] - 1s 6ms/step - loss: 0.2542 - rmse: 0.5042 - val_loss: 0.2329 - val_rmse: 0.4826\n",
            "Epoch 101/300\n",
            "127/127 [==============================] - 1s 6ms/step - loss: 0.3088 - rmse: 0.5557 - val_loss: 0.2509 - val_rmse: 0.5009\n",
            "Epoch 102/300\n",
            "127/127 [==============================] - 1s 7ms/step - loss: 0.3069 - rmse: 0.5540 - val_loss: 0.2740 - val_rmse: 0.5234\n",
            "Epoch 103/300\n",
            "127/127 [==============================] - 1s 7ms/step - loss: 0.3076 - rmse: 0.5546 - val_loss: 0.3728 - val_rmse: 0.6106\n",
            "Epoch 104/300\n",
            "127/127 [==============================] - 1s 7ms/step - loss: 0.4258 - rmse: 0.6525 - val_loss: 0.1229 - val_rmse: 0.3506\n",
            "Epoch 105/300\n",
            "127/127 [==============================] - 1s 6ms/step - loss: 0.2426 - rmse: 0.4925 - val_loss: 0.1430 - val_rmse: 0.3781\n",
            "Epoch 106/300\n",
            "127/127 [==============================] - 1s 6ms/step - loss: 0.3371 - rmse: 0.5806 - val_loss: 0.5084 - val_rmse: 0.7131\n",
            "Epoch 107/300\n",
            "127/127 [==============================] - 1s 7ms/step - loss: 0.3367 - rmse: 0.5802 - val_loss: 0.2187 - val_rmse: 0.4677\n",
            "Epoch 108/300\n",
            "127/127 [==============================] - 1s 7ms/step - loss: 0.2553 - rmse: 0.5053 - val_loss: 0.1803 - val_rmse: 0.4247\n",
            "Epoch 109/300\n",
            "127/127 [==============================] - 1s 7ms/step - loss: 0.2178 - rmse: 0.4667 - val_loss: 0.2122 - val_rmse: 0.4606\n",
            "Epoch 110/300\n",
            "127/127 [==============================] - 1s 7ms/step - loss: 0.2978 - rmse: 0.5457 - val_loss: 0.9621 - val_rmse: 0.9809\n",
            "Epoch 111/300\n",
            "127/127 [==============================] - 1s 7ms/step - loss: 0.3056 - rmse: 0.5528 - val_loss: 0.2319 - val_rmse: 0.4815\n",
            "Epoch 112/300\n",
            "127/127 [==============================] - 1s 6ms/step - loss: 0.2128 - rmse: 0.4613 - val_loss: 0.1577 - val_rmse: 0.3971\n",
            "Epoch 113/300\n",
            "127/127 [==============================] - 1s 6ms/step - loss: 0.2434 - rmse: 0.4934 - val_loss: 0.1207 - val_rmse: 0.3475\n",
            "Epoch 114/300\n",
            "127/127 [==============================] - 1s 6ms/step - loss: 0.2145 - rmse: 0.4632 - val_loss: 0.2431 - val_rmse: 0.4931\n",
            "Epoch 115/300\n",
            "127/127 [==============================] - 1s 7ms/step - loss: 0.2343 - rmse: 0.4840 - val_loss: 0.5606 - val_rmse: 0.7487\n",
            "Epoch 116/300\n",
            "127/127 [==============================] - 1s 7ms/step - loss: 0.3355 - rmse: 0.5792 - val_loss: 0.2566 - val_rmse: 0.5066\n",
            "Epoch 117/300\n",
            "127/127 [==============================] - 1s 7ms/step - loss: 0.3059 - rmse: 0.5531 - val_loss: 0.1513 - val_rmse: 0.3889\n",
            "Epoch 118/300\n",
            "127/127 [==============================] - 1s 7ms/step - loss: 0.3257 - rmse: 0.5707 - val_loss: 0.2765 - val_rmse: 0.5258\n",
            "Epoch 119/300\n",
            "127/127 [==============================] - 1s 6ms/step - loss: 0.2525 - rmse: 0.5025 - val_loss: 0.0826 - val_rmse: 0.2873\n",
            "Epoch 120/300\n",
            "127/127 [==============================] - 1s 7ms/step - loss: 0.2369 - rmse: 0.4868 - val_loss: 0.1916 - val_rmse: 0.4377\n",
            "Epoch 121/300\n",
            "127/127 [==============================] - 1s 7ms/step - loss: 0.2374 - rmse: 0.4872 - val_loss: 0.2379 - val_rmse: 0.4878\n",
            "Epoch 122/300\n",
            "127/127 [==============================] - 1s 7ms/step - loss: 0.2809 - rmse: 0.5300 - val_loss: 0.0862 - val_rmse: 0.2936\n",
            "Epoch 123/300\n",
            "127/127 [==============================] - 1s 6ms/step - loss: 0.2256 - rmse: 0.4750 - val_loss: 0.2918 - val_rmse: 0.5401\n",
            "Epoch 124/300\n",
            "127/127 [==============================] - 1s 7ms/step - loss: 0.4319 - rmse: 0.6572 - val_loss: 0.2672 - val_rmse: 0.5169\n",
            "Epoch 125/300\n",
            "127/127 [==============================] - 1s 7ms/step - loss: 0.3096 - rmse: 0.5565 - val_loss: 0.7785 - val_rmse: 0.8823\n",
            "Epoch 126/300\n",
            "127/127 [==============================] - 1s 6ms/step - loss: 0.2311 - rmse: 0.4807 - val_loss: 0.1729 - val_rmse: 0.4158\n",
            "Epoch 127/300\n",
            "127/127 [==============================] - 1s 7ms/step - loss: 0.1780 - rmse: 0.4219 - val_loss: 0.3640 - val_rmse: 0.6034\n",
            "Epoch 128/300\n",
            "127/127 [==============================] - 1s 7ms/step - loss: 0.2064 - rmse: 0.4543 - val_loss: 0.2102 - val_rmse: 0.4585\n",
            "Epoch 129/300\n",
            "127/127 [==============================] - 1s 7ms/step - loss: 0.2266 - rmse: 0.4760 - val_loss: 0.5778 - val_rmse: 0.7601\n",
            "Epoch 130/300\n",
            "127/127 [==============================] - 1s 6ms/step - loss: 0.2438 - rmse: 0.4938 - val_loss: 0.2027 - val_rmse: 0.4502\n",
            "Epoch 131/300\n",
            "127/127 [==============================] - 1s 6ms/step - loss: 0.1994 - rmse: 0.4466 - val_loss: 0.1570 - val_rmse: 0.3962\n",
            "Epoch 132/300\n",
            "127/127 [==============================] - 1s 7ms/step - loss: 0.2464 - rmse: 0.4964 - val_loss: 0.1295 - val_rmse: 0.3598\n",
            "Epoch 133/300\n",
            "127/127 [==============================] - 1s 7ms/step - loss: 0.1871 - rmse: 0.4325 - val_loss: 0.2462 - val_rmse: 0.4961\n",
            "Epoch 134/300\n",
            "127/127 [==============================] - 1s 6ms/step - loss: 0.3110 - rmse: 0.5577 - val_loss: 0.2127 - val_rmse: 0.4612\n",
            "Epoch 135/300\n",
            "127/127 [==============================] - 1s 6ms/step - loss: 0.2038 - rmse: 0.4514 - val_loss: 0.1488 - val_rmse: 0.3858\n",
            "Epoch 136/300\n",
            "127/127 [==============================] - 1s 6ms/step - loss: 0.1912 - rmse: 0.4372 - val_loss: 0.2437 - val_rmse: 0.4937\n",
            "Epoch 137/300\n",
            "127/127 [==============================] - 1s 6ms/step - loss: 0.1942 - rmse: 0.4407 - val_loss: 0.2187 - val_rmse: 0.4677\n",
            "Epoch 138/300\n",
            "127/127 [==============================] - 1s 7ms/step - loss: 0.2231 - rmse: 0.4724 - val_loss: 0.2876 - val_rmse: 0.5363\n",
            "Epoch 139/300\n",
            "127/127 [==============================] - 1s 6ms/step - loss: 0.3169 - rmse: 0.5629 - val_loss: 0.3459 - val_rmse: 0.5881\n",
            "Epoch 140/300\n",
            "127/127 [==============================] - 1s 7ms/step - loss: 0.2273 - rmse: 0.4767 - val_loss: 0.2872 - val_rmse: 0.5359\n",
            "Epoch 141/300\n",
            "127/127 [==============================] - 1s 7ms/step - loss: 0.2061 - rmse: 0.4540 - val_loss: 0.0758 - val_rmse: 0.2754\n",
            "Epoch 142/300\n",
            "127/127 [==============================] - 1s 7ms/step - loss: 0.2325 - rmse: 0.4822 - val_loss: 0.5484 - val_rmse: 0.7405\n",
            "Epoch 143/300\n",
            "127/127 [==============================] - 1s 6ms/step - loss: 0.1966 - rmse: 0.4434 - val_loss: 0.4928 - val_rmse: 0.7020\n",
            "Epoch 144/300\n",
            "127/127 [==============================] - 1s 6ms/step - loss: 0.2515 - rmse: 0.5015 - val_loss: 0.3161 - val_rmse: 0.5623\n",
            "Epoch 145/300\n",
            "127/127 [==============================] - 1s 7ms/step - loss: 0.2244 - rmse: 0.4737 - val_loss: 0.2399 - val_rmse: 0.4898\n",
            "Epoch 146/300\n",
            "127/127 [==============================] - 1s 6ms/step - loss: 0.2498 - rmse: 0.4998 - val_loss: 0.0815 - val_rmse: 0.2855\n",
            "Epoch 147/300\n",
            "127/127 [==============================] - 1s 7ms/step - loss: 0.1598 - rmse: 0.3997 - val_loss: 0.1097 - val_rmse: 0.3313\n",
            "Epoch 148/300\n",
            "127/127 [==============================] - 1s 6ms/step - loss: 0.1213 - rmse: 0.3483 - val_loss: 0.2046 - val_rmse: 0.4524\n",
            "Epoch 149/300\n",
            "127/127 [==============================] - 1s 7ms/step - loss: 0.1629 - rmse: 0.4036 - val_loss: 0.2740 - val_rmse: 0.5235\n",
            "Epoch 150/300\n",
            "127/127 [==============================] - 1s 7ms/step - loss: 0.3562 - rmse: 0.5968 - val_loss: 0.0790 - val_rmse: 0.2810\n",
            "Epoch 151/300\n",
            "127/127 [==============================] - 1s 7ms/step - loss: 0.1247 - rmse: 0.3532 - val_loss: 0.1303 - val_rmse: 0.3610\n",
            "Epoch 152/300\n",
            "127/127 [==============================] - 1s 7ms/step - loss: 0.2181 - rmse: 0.4671 - val_loss: 0.3576 - val_rmse: 0.5980\n",
            "Epoch 153/300\n",
            "127/127 [==============================] - 1s 6ms/step - loss: 0.3954 - rmse: 0.6288 - val_loss: 0.1111 - val_rmse: 0.3332\n",
            "Epoch 154/300\n",
            "127/127 [==============================] - 1s 6ms/step - loss: 0.2247 - rmse: 0.4740 - val_loss: 0.0599 - val_rmse: 0.2448\n",
            "Epoch 155/300\n",
            "127/127 [==============================] - 1s 6ms/step - loss: 0.1502 - rmse: 0.3876 - val_loss: 0.1174 - val_rmse: 0.3427\n",
            "Epoch 156/300\n",
            "127/127 [==============================] - 1s 6ms/step - loss: 0.1380 - rmse: 0.3715 - val_loss: 0.1534 - val_rmse: 0.3916\n",
            "Epoch 157/300\n",
            "127/127 [==============================] - 1s 6ms/step - loss: 0.1821 - rmse: 0.4267 - val_loss: 0.1696 - val_rmse: 0.4118\n",
            "Epoch 158/300\n",
            "127/127 [==============================] - 1s 6ms/step - loss: 0.1666 - rmse: 0.4082 - val_loss: 0.2909 - val_rmse: 0.5393\n",
            "Epoch 159/300\n",
            "127/127 [==============================] - 1s 7ms/step - loss: 0.2137 - rmse: 0.4623 - val_loss: 0.1810 - val_rmse: 0.4254\n",
            "Epoch 160/300\n",
            "127/127 [==============================] - 1s 6ms/step - loss: 0.1598 - rmse: 0.3998 - val_loss: 0.1776 - val_rmse: 0.4215\n",
            "Epoch 161/300\n",
            "127/127 [==============================] - 1s 7ms/step - loss: 0.2076 - rmse: 0.4556 - val_loss: 0.1247 - val_rmse: 0.3531\n",
            "Epoch 162/300\n",
            "127/127 [==============================] - 1s 7ms/step - loss: 0.1364 - rmse: 0.3693 - val_loss: 0.0675 - val_rmse: 0.2598\n",
            "Epoch 163/300\n",
            "127/127 [==============================] - 1s 7ms/step - loss: 0.2368 - rmse: 0.4867 - val_loss: 0.3542 - val_rmse: 0.5952\n",
            "Epoch 164/300\n",
            "127/127 [==============================] - 1s 7ms/step - loss: 0.2949 - rmse: 0.5430 - val_loss: 0.3061 - val_rmse: 0.5532\n",
            "Epoch 165/300\n",
            "127/127 [==============================] - 1s 7ms/step - loss: 0.3357 - rmse: 0.5794 - val_loss: 0.2427 - val_rmse: 0.4926\n",
            "Epoch 166/300\n",
            "127/127 [==============================] - 1s 6ms/step - loss: 0.1716 - rmse: 0.4142 - val_loss: 0.1015 - val_rmse: 0.3187\n",
            "Epoch 167/300\n",
            "127/127 [==============================] - 1s 6ms/step - loss: 0.1564 - rmse: 0.3955 - val_loss: 0.0896 - val_rmse: 0.2993\n",
            "Epoch 168/300\n",
            "127/127 [==============================] - 1s 7ms/step - loss: 0.1488 - rmse: 0.3858 - val_loss: 0.1287 - val_rmse: 0.3588\n",
            "Epoch 169/300\n",
            "127/127 [==============================] - 1s 7ms/step - loss: 0.1500 - rmse: 0.3873 - val_loss: 0.2164 - val_rmse: 0.4652\n",
            "Epoch 170/300\n",
            "127/127 [==============================] - 1s 7ms/step - loss: 0.2435 - rmse: 0.4935 - val_loss: 0.3467 - val_rmse: 0.5888\n",
            "Epoch 171/300\n",
            "127/127 [==============================] - 1s 6ms/step - loss: 0.1953 - rmse: 0.4419 - val_loss: 0.1757 - val_rmse: 0.4192\n",
            "Epoch 172/300\n",
            "127/127 [==============================] - 1s 7ms/step - loss: 0.2410 - rmse: 0.4909 - val_loss: 0.0872 - val_rmse: 0.2952\n",
            "Epoch 173/300\n",
            "127/127 [==============================] - 1s 7ms/step - loss: 0.2015 - rmse: 0.4489 - val_loss: 0.1412 - val_rmse: 0.3757\n",
            "Epoch 174/300\n",
            "127/127 [==============================] - 1s 6ms/step - loss: 0.1495 - rmse: 0.3866 - val_loss: 0.1706 - val_rmse: 0.4130\n",
            "Epoch 175/300\n",
            "127/127 [==============================] - 1s 7ms/step - loss: 0.1793 - rmse: 0.4235 - val_loss: 0.1859 - val_rmse: 0.4312\n",
            "Epoch 176/300\n",
            "127/127 [==============================] - 1s 7ms/step - loss: 0.1130 - rmse: 0.3362 - val_loss: 0.1394 - val_rmse: 0.3734\n",
            "Epoch 177/300\n",
            "127/127 [==============================] - 1s 7ms/step - loss: 0.1617 - rmse: 0.4021 - val_loss: 0.2443 - val_rmse: 0.4943\n",
            "Epoch 178/300\n",
            "127/127 [==============================] - 1s 7ms/step - loss: 0.2304 - rmse: 0.4800 - val_loss: 0.0489 - val_rmse: 0.2212\n",
            "Epoch 179/300\n",
            "127/127 [==============================] - 1s 6ms/step - loss: 0.2067 - rmse: 0.4546 - val_loss: 0.1170 - val_rmse: 0.3420\n",
            "Epoch 180/300\n",
            "127/127 [==============================] - 1s 7ms/step - loss: 0.1474 - rmse: 0.3839 - val_loss: 0.0527 - val_rmse: 0.2296\n",
            "Epoch 181/300\n",
            "127/127 [==============================] - 1s 7ms/step - loss: 0.2209 - rmse: 0.4701 - val_loss: 0.1517 - val_rmse: 0.3895\n",
            "Epoch 182/300\n",
            "127/127 [==============================] - 1s 7ms/step - loss: 0.1201 - rmse: 0.3465 - val_loss: 0.0519 - val_rmse: 0.2277\n",
            "Epoch 183/300\n",
            "127/127 [==============================] - 1s 7ms/step - loss: 0.2439 - rmse: 0.4939 - val_loss: 0.4117 - val_rmse: 0.6417\n",
            "Epoch 184/300\n",
            "127/127 [==============================] - 1s 6ms/step - loss: 0.2552 - rmse: 0.5052 - val_loss: 0.3501 - val_rmse: 0.5917\n",
            "Epoch 185/300\n",
            "127/127 [==============================] - 1s 7ms/step - loss: 0.1205 - rmse: 0.3471 - val_loss: 0.0396 - val_rmse: 0.1991\n",
            "Epoch 186/300\n",
            "127/127 [==============================] - 1s 7ms/step - loss: 0.1104 - rmse: 0.3322 - val_loss: 0.0480 - val_rmse: 0.2192\n",
            "Epoch 187/300\n",
            "127/127 [==============================] - 1s 6ms/step - loss: 0.1697 - rmse: 0.4120 - val_loss: 0.1959 - val_rmse: 0.4426\n",
            "Epoch 188/300\n",
            "127/127 [==============================] - 1s 7ms/step - loss: 0.2043 - rmse: 0.4520 - val_loss: 0.1312 - val_rmse: 0.3622\n",
            "Epoch 189/300\n",
            "127/127 [==============================] - 1s 6ms/step - loss: 0.1230 - rmse: 0.3507 - val_loss: 0.0788 - val_rmse: 0.2807\n",
            "Epoch 190/300\n",
            "127/127 [==============================] - 1s 7ms/step - loss: 0.1615 - rmse: 0.4019 - val_loss: 0.1501 - val_rmse: 0.3875\n",
            "Epoch 191/300\n",
            "127/127 [==============================] - 1s 6ms/step - loss: 0.1929 - rmse: 0.4392 - val_loss: 0.1133 - val_rmse: 0.3366\n",
            "Epoch 192/300\n",
            "127/127 [==============================] - 1s 6ms/step - loss: 0.2388 - rmse: 0.4886 - val_loss: 0.3914 - val_rmse: 0.6257\n",
            "Epoch 193/300\n",
            "127/127 [==============================] - 1s 6ms/step - loss: 0.2143 - rmse: 0.4630 - val_loss: 0.1718 - val_rmse: 0.4145\n",
            "Epoch 194/300\n",
            "127/127 [==============================] - 1s 7ms/step - loss: 0.1459 - rmse: 0.3819 - val_loss: 0.1516 - val_rmse: 0.3894\n",
            "Epoch 195/300\n",
            "127/127 [==============================] - 1s 6ms/step - loss: 0.1202 - rmse: 0.3467 - val_loss: 0.0582 - val_rmse: 0.2413\n",
            "Epoch 196/300\n",
            "127/127 [==============================] - 1s 7ms/step - loss: 0.1674 - rmse: 0.4092 - val_loss: 0.3569 - val_rmse: 0.5974\n",
            "Epoch 197/300\n",
            "127/127 [==============================] - 1s 7ms/step - loss: 0.1349 - rmse: 0.3672 - val_loss: 0.2124 - val_rmse: 0.4608\n",
            "Epoch 198/300\n",
            "127/127 [==============================] - 1s 7ms/step - loss: 0.1292 - rmse: 0.3594 - val_loss: 0.0666 - val_rmse: 0.2581\n",
            "Epoch 199/300\n",
            "127/127 [==============================] - 1s 7ms/step - loss: 0.1296 - rmse: 0.3600 - val_loss: 0.0482 - val_rmse: 0.2196\n",
            "Epoch 200/300\n",
            "127/127 [==============================] - 1s 7ms/step - loss: 0.1909 - rmse: 0.4370 - val_loss: 0.1503 - val_rmse: 0.3876\n",
            "Epoch 201/300\n",
            "127/127 [==============================] - 1s 7ms/step - loss: 0.1676 - rmse: 0.4094 - val_loss: 0.1241 - val_rmse: 0.3522\n",
            "Epoch 202/300\n",
            "127/127 [==============================] - 1s 7ms/step - loss: 0.1853 - rmse: 0.4305 - val_loss: 0.2767 - val_rmse: 0.5261\n",
            "Epoch 203/300\n",
            "127/127 [==============================] - 1s 7ms/step - loss: 0.1957 - rmse: 0.4424 - val_loss: 0.1111 - val_rmse: 0.3333\n",
            "Epoch 204/300\n",
            "127/127 [==============================] - 1s 7ms/step - loss: 0.1475 - rmse: 0.3841 - val_loss: 0.1534 - val_rmse: 0.3917\n",
            "Epoch 205/300\n",
            "127/127 [==============================] - 1s 7ms/step - loss: 0.1498 - rmse: 0.3870 - val_loss: 0.3043 - val_rmse: 0.5516\n",
            "Epoch 206/300\n",
            "127/127 [==============================] - 1s 7ms/step - loss: 0.1040 - rmse: 0.3225 - val_loss: 0.0855 - val_rmse: 0.2925\n",
            "Epoch 207/300\n",
            "127/127 [==============================] - 1s 6ms/step - loss: 0.2094 - rmse: 0.4576 - val_loss: 0.1998 - val_rmse: 0.4469\n",
            "Epoch 208/300\n",
            "127/127 [==============================] - 1s 6ms/step - loss: 0.3714 - rmse: 0.6094 - val_loss: 0.3008 - val_rmse: 0.5484\n",
            "Epoch 209/300\n",
            "127/127 [==============================] - 1s 6ms/step - loss: 0.2476 - rmse: 0.4976 - val_loss: 0.0772 - val_rmse: 0.2779\n",
            "Epoch 210/300\n",
            "127/127 [==============================] - 1s 7ms/step - loss: 0.1353 - rmse: 0.3679 - val_loss: 0.1258 - val_rmse: 0.3547\n",
            "Epoch 211/300\n",
            "127/127 [==============================] - 1s 7ms/step - loss: 0.1667 - rmse: 0.4083 - val_loss: 0.2016 - val_rmse: 0.4490\n",
            "Epoch 212/300\n",
            "127/127 [==============================] - 1s 6ms/step - loss: 0.1199 - rmse: 0.3462 - val_loss: 0.0709 - val_rmse: 0.2664\n",
            "Epoch 213/300\n",
            "127/127 [==============================] - 1s 7ms/step - loss: 0.1059 - rmse: 0.3254 - val_loss: 0.0915 - val_rmse: 0.3025\n",
            "Epoch 214/300\n",
            "127/127 [==============================] - 1s 7ms/step - loss: 0.1761 - rmse: 0.4196 - val_loss: 0.1324 - val_rmse: 0.3639\n",
            "Epoch 215/300\n",
            "127/127 [==============================] - 1s 7ms/step - loss: 0.1712 - rmse: 0.4138 - val_loss: 0.1475 - val_rmse: 0.3841\n",
            "Epoch 216/300\n",
            "127/127 [==============================] - 1s 7ms/step - loss: 0.1727 - rmse: 0.4156 - val_loss: 0.0825 - val_rmse: 0.2873\n",
            "Epoch 217/300\n",
            "127/127 [==============================] - 1s 7ms/step - loss: 0.1110 - rmse: 0.3331 - val_loss: 0.3464 - val_rmse: 0.5885\n",
            "Epoch 218/300\n",
            "127/127 [==============================] - 1s 7ms/step - loss: 0.1880 - rmse: 0.4336 - val_loss: 0.2062 - val_rmse: 0.4541\n",
            "Epoch 219/300\n",
            "127/127 [==============================] - 1s 7ms/step - loss: 0.1482 - rmse: 0.3850 - val_loss: 0.0878 - val_rmse: 0.2962\n",
            "Epoch 220/300\n",
            "127/127 [==============================] - 1s 6ms/step - loss: 0.1117 - rmse: 0.3342 - val_loss: 0.0419 - val_rmse: 0.2048\n",
            "Epoch 221/300\n",
            "127/127 [==============================] - 1s 7ms/step - loss: 0.1170 - rmse: 0.3421 - val_loss: 0.1292 - val_rmse: 0.3594\n",
            "Epoch 222/300\n",
            "127/127 [==============================] - 1s 7ms/step - loss: 0.1231 - rmse: 0.3508 - val_loss: 0.0888 - val_rmse: 0.2980\n",
            "Epoch 223/300\n",
            "127/127 [==============================] - 1s 7ms/step - loss: 0.1309 - rmse: 0.3618 - val_loss: 0.0912 - val_rmse: 0.3020\n",
            "Epoch 224/300\n",
            "127/127 [==============================] - 1s 7ms/step - loss: 0.1366 - rmse: 0.3695 - val_loss: 0.1491 - val_rmse: 0.3861\n",
            "Epoch 225/300\n",
            "127/127 [==============================] - 1s 6ms/step - loss: 0.1431 - rmse: 0.3783 - val_loss: 0.1287 - val_rmse: 0.3587\n",
            "Epoch 226/300\n",
            "127/127 [==============================] - 1s 7ms/step - loss: 0.1387 - rmse: 0.3724 - val_loss: 0.1113 - val_rmse: 0.3336\n",
            "Epoch 227/300\n",
            "127/127 [==============================] - 1s 7ms/step - loss: 0.1217 - rmse: 0.3488 - val_loss: 0.2286 - val_rmse: 0.4781\n",
            "Epoch 228/300\n",
            "127/127 [==============================] - 1s 7ms/step - loss: 0.1237 - rmse: 0.3517 - val_loss: 0.1520 - val_rmse: 0.3899\n",
            "Epoch 229/300\n",
            "127/127 [==============================] - 1s 7ms/step - loss: 0.2260 - rmse: 0.4754 - val_loss: 0.1566 - val_rmse: 0.3957\n",
            "Epoch 230/300\n",
            "127/127 [==============================] - 1s 7ms/step - loss: 0.1236 - rmse: 0.3515 - val_loss: 0.2114 - val_rmse: 0.4598\n",
            "Epoch 231/300\n",
            "127/127 [==============================] - 1s 7ms/step - loss: 0.1967 - rmse: 0.4435 - val_loss: 0.2329 - val_rmse: 0.4826\n",
            "Epoch 232/300\n",
            "127/127 [==============================] - 1s 7ms/step - loss: 0.1750 - rmse: 0.4184 - val_loss: 0.0554 - val_rmse: 0.2354\n",
            "Epoch 233/300\n",
            "127/127 [==============================] - 1s 7ms/step - loss: 0.2778 - rmse: 0.5271 - val_loss: 0.2576 - val_rmse: 0.5076\n",
            "Epoch 234/300\n",
            "127/127 [==============================] - 1s 7ms/step - loss: 0.1482 - rmse: 0.3850 - val_loss: 0.0292 - val_rmse: 0.1708\n",
            "Epoch 235/300\n",
            "127/127 [==============================] - 1s 7ms/step - loss: 0.1765 - rmse: 0.4202 - val_loss: 0.1873 - val_rmse: 0.4328\n",
            "Epoch 236/300\n",
            "127/127 [==============================] - 1s 7ms/step - loss: 0.0934 - rmse: 0.3057 - val_loss: 0.2633 - val_rmse: 0.5132\n",
            "Epoch 237/300\n",
            "127/127 [==============================] - 1s 7ms/step - loss: 0.0926 - rmse: 0.3043 - val_loss: 0.0417 - val_rmse: 0.2042\n",
            "Epoch 238/300\n",
            "127/127 [==============================] - 1s 7ms/step - loss: 0.1013 - rmse: 0.3182 - val_loss: 0.2362 - val_rmse: 0.4860\n",
            "Epoch 239/300\n",
            "127/127 [==============================] - 1s 7ms/step - loss: 0.1241 - rmse: 0.3523 - val_loss: 0.0431 - val_rmse: 0.2075\n",
            "Epoch 240/300\n",
            "127/127 [==============================] - 1s 7ms/step - loss: 0.1796 - rmse: 0.4238 - val_loss: 0.4299 - val_rmse: 0.6556\n",
            "Epoch 241/300\n",
            "127/127 [==============================] - 1s 7ms/step - loss: 0.1585 - rmse: 0.3981 - val_loss: 0.0891 - val_rmse: 0.2984\n",
            "Epoch 242/300\n",
            "127/127 [==============================] - 1s 7ms/step - loss: 0.0941 - rmse: 0.3067 - val_loss: 0.0585 - val_rmse: 0.2418\n",
            "Epoch 243/300\n",
            "127/127 [==============================] - 1s 6ms/step - loss: 0.1228 - rmse: 0.3504 - val_loss: 0.0993 - val_rmse: 0.3152\n",
            "Epoch 244/300\n",
            "127/127 [==============================] - 1s 7ms/step - loss: 0.1396 - rmse: 0.3737 - val_loss: 0.1133 - val_rmse: 0.3366\n",
            "Epoch 245/300\n",
            "127/127 [==============================] - 1s 7ms/step - loss: 0.1338 - rmse: 0.3657 - val_loss: 0.2562 - val_rmse: 0.5062\n",
            "Epoch 246/300\n",
            "127/127 [==============================] - 1s 7ms/step - loss: 0.1616 - rmse: 0.4020 - val_loss: 0.1686 - val_rmse: 0.4107\n",
            "Epoch 247/300\n",
            "127/127 [==============================] - 1s 7ms/step - loss: 0.1615 - rmse: 0.4018 - val_loss: 0.0503 - val_rmse: 0.2242\n",
            "Epoch 248/300\n",
            "127/127 [==============================] - 1s 7ms/step - loss: 0.0856 - rmse: 0.2926 - val_loss: 0.0666 - val_rmse: 0.2581\n",
            "Epoch 249/300\n",
            "127/127 [==============================] - 1s 7ms/step - loss: 0.0745 - rmse: 0.2729 - val_loss: 0.0958 - val_rmse: 0.3095\n",
            "Epoch 250/300\n",
            "127/127 [==============================] - 1s 7ms/step - loss: 0.0992 - rmse: 0.3150 - val_loss: 0.1217 - val_rmse: 0.3489\n",
            "Epoch 251/300\n",
            "127/127 [==============================] - 1s 7ms/step - loss: 0.1185 - rmse: 0.3442 - val_loss: 0.0504 - val_rmse: 0.2244\n",
            "Epoch 252/300\n",
            "127/127 [==============================] - 1s 7ms/step - loss: 0.1003 - rmse: 0.3168 - val_loss: 0.1121 - val_rmse: 0.3347\n",
            "Epoch 253/300\n",
            "127/127 [==============================] - 1s 7ms/step - loss: 0.1070 - rmse: 0.3271 - val_loss: 0.0594 - val_rmse: 0.2438\n",
            "Epoch 254/300\n",
            "127/127 [==============================] - 1s 7ms/step - loss: 0.1197 - rmse: 0.3460 - val_loss: 0.1655 - val_rmse: 0.4068\n",
            "Epoch 255/300\n",
            "127/127 [==============================] - 1s 7ms/step - loss: 0.1315 - rmse: 0.3626 - val_loss: 0.2396 - val_rmse: 0.4895\n",
            "Epoch 256/300\n",
            "127/127 [==============================] - 1s 7ms/step - loss: 0.1559 - rmse: 0.3948 - val_loss: 0.1162 - val_rmse: 0.3409\n",
            "Epoch 257/300\n",
            "127/127 [==============================] - 1s 7ms/step - loss: 0.1530 - rmse: 0.3911 - val_loss: 0.0404 - val_rmse: 0.2010\n",
            "Epoch 258/300\n",
            "127/127 [==============================] - 1s 7ms/step - loss: 0.1311 - rmse: 0.3620 - val_loss: 0.0656 - val_rmse: 0.2561\n",
            "Epoch 259/300\n",
            "127/127 [==============================] - 1s 7ms/step - loss: 0.1509 - rmse: 0.3884 - val_loss: 0.4557 - val_rmse: 0.6750\n",
            "Epoch 260/300\n",
            "127/127 [==============================] - 1s 7ms/step - loss: 0.1573 - rmse: 0.3966 - val_loss: 0.2289 - val_rmse: 0.4784\n",
            "Epoch 261/300\n",
            "127/127 [==============================] - 1s 7ms/step - loss: 0.1786 - rmse: 0.4227 - val_loss: 0.0621 - val_rmse: 0.2492\n",
            "Epoch 262/300\n",
            "127/127 [==============================] - 1s 7ms/step - loss: 0.0790 - rmse: 0.2811 - val_loss: 0.0277 - val_rmse: 0.1665\n",
            "Epoch 263/300\n",
            "127/127 [==============================] - 1s 7ms/step - loss: 0.0774 - rmse: 0.2782 - val_loss: 0.0441 - val_rmse: 0.2101\n",
            "Epoch 264/300\n",
            "127/127 [==============================] - 1s 7ms/step - loss: 0.1063 - rmse: 0.3260 - val_loss: 0.1476 - val_rmse: 0.3843\n",
            "Epoch 265/300\n",
            "127/127 [==============================] - 1s 7ms/step - loss: 0.1804 - rmse: 0.4248 - val_loss: 0.1463 - val_rmse: 0.3825\n",
            "Epoch 266/300\n",
            "127/127 [==============================] - 1s 7ms/step - loss: 0.1244 - rmse: 0.3527 - val_loss: 0.0734 - val_rmse: 0.2709\n",
            "Epoch 267/300\n",
            "127/127 [==============================] - 1s 7ms/step - loss: 0.0892 - rmse: 0.2986 - val_loss: 0.0731 - val_rmse: 0.2705\n",
            "Epoch 268/300\n",
            "127/127 [==============================] - 1s 7ms/step - loss: 0.1102 - rmse: 0.3320 - val_loss: 0.0818 - val_rmse: 0.2861\n",
            "Epoch 269/300\n",
            "127/127 [==============================] - 1s 7ms/step - loss: 0.0812 - rmse: 0.2850 - val_loss: 0.0552 - val_rmse: 0.2349\n",
            "Epoch 270/300\n",
            "127/127 [==============================] - 1s 7ms/step - loss: 0.1426 - rmse: 0.3777 - val_loss: 0.1961 - val_rmse: 0.4428\n",
            "Epoch 271/300\n",
            "127/127 [==============================] - 1s 7ms/step - loss: 0.1293 - rmse: 0.3595 - val_loss: 0.1312 - val_rmse: 0.3623\n",
            "Epoch 272/300\n",
            "127/127 [==============================] - 1s 7ms/step - loss: 0.0964 - rmse: 0.3104 - val_loss: 0.0545 - val_rmse: 0.2335\n",
            "Epoch 273/300\n",
            "127/127 [==============================] - 1s 7ms/step - loss: 0.0745 - rmse: 0.2729 - val_loss: 0.0534 - val_rmse: 0.2312\n",
            "Epoch 274/300\n",
            "127/127 [==============================] - 1s 7ms/step - loss: 0.1258 - rmse: 0.3547 - val_loss: 0.0695 - val_rmse: 0.2635\n",
            "Epoch 275/300\n",
            "127/127 [==============================] - 1s 7ms/step - loss: 0.2267 - rmse: 0.4761 - val_loss: 0.0465 - val_rmse: 0.2157\n",
            "Epoch 276/300\n",
            "127/127 [==============================] - 1s 7ms/step - loss: 0.0966 - rmse: 0.3108 - val_loss: 0.1290 - val_rmse: 0.3591\n",
            "Epoch 277/300\n",
            "127/127 [==============================] - 1s 7ms/step - loss: 0.0914 - rmse: 0.3024 - val_loss: 0.1152 - val_rmse: 0.3394\n",
            "Epoch 278/300\n",
            "127/127 [==============================] - 1s 7ms/step - loss: 0.1436 - rmse: 0.3790 - val_loss: 0.0880 - val_rmse: 0.2966\n",
            "Epoch 279/300\n",
            "127/127 [==============================] - 1s 7ms/step - loss: 0.0836 - rmse: 0.2891 - val_loss: 0.0966 - val_rmse: 0.3107\n",
            "Epoch 280/300\n",
            "127/127 [==============================] - 1s 7ms/step - loss: 0.1082 - rmse: 0.3289 - val_loss: 0.0625 - val_rmse: 0.2501\n",
            "Epoch 281/300\n",
            "127/127 [==============================] - 1s 7ms/step - loss: 0.1078 - rmse: 0.3283 - val_loss: 0.1801 - val_rmse: 0.4244\n",
            "Epoch 282/300\n",
            "127/127 [==============================] - 1s 7ms/step - loss: 0.1264 - rmse: 0.3555 - val_loss: 0.1063 - val_rmse: 0.3260\n",
            "Epoch 283/300\n",
            "127/127 [==============================] - 1s 7ms/step - loss: 0.1229 - rmse: 0.3506 - val_loss: 0.1520 - val_rmse: 0.3898\n",
            "Epoch 284/300\n",
            "127/127 [==============================] - 1s 7ms/step - loss: 0.2065 - rmse: 0.4544 - val_loss: 0.0594 - val_rmse: 0.2437\n",
            "Epoch 285/300\n",
            "127/127 [==============================] - 1s 7ms/step - loss: 0.0915 - rmse: 0.3025 - val_loss: 0.2788 - val_rmse: 0.5280\n",
            "Epoch 286/300\n",
            "127/127 [==============================] - 1s 7ms/step - loss: 0.1079 - rmse: 0.3285 - val_loss: 0.1823 - val_rmse: 0.4269\n",
            "Epoch 287/300\n",
            "127/127 [==============================] - 1s 7ms/step - loss: 0.1087 - rmse: 0.3297 - val_loss: 0.0701 - val_rmse: 0.2648\n",
            "Epoch 288/300\n",
            "127/127 [==============================] - 1s 7ms/step - loss: 0.0656 - rmse: 0.2562 - val_loss: 0.0889 - val_rmse: 0.2981\n",
            "Epoch 289/300\n",
            "127/127 [==============================] - 1s 7ms/step - loss: 0.3498 - rmse: 0.5915 - val_loss: 0.0651 - val_rmse: 0.2551\n",
            "Epoch 290/300\n",
            "127/127 [==============================] - 1s 7ms/step - loss: 0.1181 - rmse: 0.3436 - val_loss: 0.0717 - val_rmse: 0.2678\n",
            "Epoch 291/300\n",
            "127/127 [==============================] - 1s 7ms/step - loss: 0.0894 - rmse: 0.2990 - val_loss: 0.0304 - val_rmse: 0.1743\n",
            "Epoch 292/300\n",
            "127/127 [==============================] - 1s 7ms/step - loss: 0.0669 - rmse: 0.2586 - val_loss: 0.0411 - val_rmse: 0.2027\n",
            "Epoch 293/300\n",
            "127/127 [==============================] - 1s 7ms/step - loss: 0.0801 - rmse: 0.2831 - val_loss: 0.1827 - val_rmse: 0.4274\n",
            "Epoch 294/300\n",
            "127/127 [==============================] - 1s 7ms/step - loss: 0.1553 - rmse: 0.3940 - val_loss: 0.1113 - val_rmse: 0.3336\n",
            "Epoch 295/300\n",
            "127/127 [==============================] - 1s 7ms/step - loss: 0.0750 - rmse: 0.2738 - val_loss: 0.0578 - val_rmse: 0.2404\n",
            "Epoch 296/300\n",
            "127/127 [==============================] - 1s 7ms/step - loss: 0.0889 - rmse: 0.2982 - val_loss: 0.0634 - val_rmse: 0.2519\n",
            "Epoch 297/300\n",
            "127/127 [==============================] - 1s 7ms/step - loss: 0.1493 - rmse: 0.3864 - val_loss: 0.0708 - val_rmse: 0.2661\n",
            "Epoch 298/300\n",
            "127/127 [==============================] - 1s 7ms/step - loss: 0.1586 - rmse: 0.3982 - val_loss: 0.0302 - val_rmse: 0.1738\n",
            "Epoch 299/300\n",
            "127/127 [==============================] - 1s 7ms/step - loss: 0.1836 - rmse: 0.4285 - val_loss: 0.2596 - val_rmse: 0.5095\n",
            "Epoch 300/300\n",
            "127/127 [==============================] - 1s 7ms/step - loss: 0.1137 - rmse: 0.3372 - val_loss: 0.0811 - val_rmse: 0.2848\n"
          ]
        }
      ]
    },
    {
      "cell_type": "code",
      "metadata": {
        "colab": {
          "base_uri": "https://localhost:8080/",
          "height": 282
        },
        "id": "lDTTBM0lBB7m",
        "outputId": "c2092aec-ee87-4bf9-ce26-fd0a3cce1c9e"
      },
      "source": [
        "import matplotlib.pyplot as plt\n",
        "\n",
        "plt.plot(history.history['loss'])\n",
        "plt.plot(history.history['val_loss'])\n",
        "plt.plot(history.history['rmse'])"
      ],
      "execution_count": 13,
      "outputs": [
        {
          "output_type": "execute_result",
          "data": {
            "text/plain": [
              "[<matplotlib.lines.Line2D at 0x7efeadc271d0>]"
            ]
          },
          "metadata": {},
          "execution_count": 13
        },
        {
          "output_type": "display_data",
          "data": {
            "text/plain": [
              "<Figure size 432x288 with 1 Axes>"
            ],
            "image/png": "[encoded data removed]"
          },
          "metadata": {
            "needs_background": "light"
          }
        }
      ]
    },
    {
      "cell_type": "code",
      "metadata": {
        "colab": {
          "base_uri": "https://localhost:8080/"
        },
        "id": "2spqI507--e7",
        "outputId": "578a08cd-2aa0-46c3-bba2-217484347dd3"
      },
      "source": [
        "model.evaluate(ds_test)"
      ],
      "execution_count": 14,
      "outputs": [
        {
          "output_type": "stream",
          "name": "stdout",
          "text": [
            "1/1 [==============================] - 0s 121ms/step - loss: 0.0461 - rmse: 0.2148\n"
          ]
        },
        {
          "output_type": "execute_result",
          "data": {
            "text/plain": [
              "[0.0461432971060276, 0.21480990946292877]"
            ]
          },
          "metadata": {},
          "execution_count": 14
        }
      ]
    }
  ]
}